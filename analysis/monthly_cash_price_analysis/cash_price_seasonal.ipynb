{
 "cells": [
  {
   "cell_type": "markdown",
   "metadata": {},
   "source": [
    "## Seasonal cash price received GE 500 LB"
   ]
  },
  {
   "cell_type": "markdown",
   "metadata": {},
   "source": [
    "- Purpose if this notebook is to deep dive into seasonality in the cash price and test how predictible this is"
   ]
  },
  {
   "cell_type": "code",
   "execution_count": 27,
   "metadata": {},
   "outputs": [],
   "source": [
    "import pandas as pd\n",
    "import seaborn as sns\n",
    "import matplotlib.pyplot as plt\n",
    "\n",
    "import sys\n",
    "sys.path.append('../')\n",
    "import src\n",
    "\n",
    "import warnings\n",
    "warnings.filterwarnings('ignore')"
   ]
  },
  {
   "cell_type": "code",
   "execution_count": 28,
   "metadata": {},
   "outputs": [],
   "source": [
    "price_received_ge_500_national = pd.read_csv('../csv/price_received_ge_500_national.csv')\n",
    "\n",
    "price_received_ge_500_national = src.usda_clean_monthly(price_received_ge_500_national)\n",
    "\n",
    "price_received_ge_500_national_pct_chg = price_received_ge_500_national.pct_change()*100\n",
    "price_received_ge_500_national_pct_chg.name = 'price_received_ge_500_national_pct_chg'\n",
    "\n",
    "price_received_ge_500_national_pct_chg.dropna(inplace=True)\n",
    "\n",
    "adj_price_received_ge_500_national = src.adjust_series_cpi(price_received_ge_500_national)\n",
    "adj_price_received_ge_500_national.name = 'adj_price_received_ge_500_national'"
   ]
  },
  {
   "cell_type": "markdown",
   "metadata": {},
   "source": [
    "- Note, Live Cattle Futures contract tracks the 'Price Received GE 500 LB' very closely\n",
    "    - Regressing these two variables gives coefficeint of ~1, with p-value ~0, and R-squared ~99.8%. See this [notebook](../futures_cash_price_analysis.ipynb)."
   ]
  },
  {
   "cell_type": "code",
   "execution_count": 29,
   "metadata": {},
   "outputs": [],
   "source": [
    "df_adj = pd.DataFrame({\n",
    "    'adj_price_received_ge_500_national':adj_price_received_ge_500_national,\n",
    "    'month' : adj_price_received_ge_500_national.index.month,\n",
    "    'quarter' : adj_price_received_ge_500_national.index.quarter,\n",
    "})\n",
    "\n"
   ]
  },
  {
   "cell_type": "code",
   "execution_count": 30,
   "metadata": {},
   "outputs": [
    {
     "data": {
      "application/vnd.plotly.v1+json": {
       "config": {
        "plotlyServerURL": "https://plot.ly"
       },
       "data": [
        {
         "name": "Price Received",
         "type": "box",
         "x": [
          1,
          2,
          3,
          4,
          5,
          6,
          7,
          8,
          9,
          10,
          11,
          12,
          1,
          2,
          3,
          4,
          5,
          6,
          7,
          8,
          9,
          10,
          11,
          12,
          1,
          2,
          3,
          4,
          5,
          6,
          7,
          8,
          9,
          10,
          11,
          12,
          1,
          2,
          3,
          4,
          5,
          6,
          7,
          8,
          9,
          10,
          11,
          12,
          1,
          2,
          3,
          4,
          5,
          6,
          7,
          8,
          9,
          10,
          11,
          12,
          1,
          2,
          3,
          4,
          5,
          6,
          7,
          8,
          9,
          10,
          11,
          12,
          1,
          2,
          3,
          4,
          5,
          6,
          7,
          8,
          9,
          10,
          11,
          12,
          1,
          2,
          3,
          4,
          5,
          6,
          7,
          8,
          9,
          10,
          11,
          12,
          1,
          2,
          3,
          4,
          5,
          6,
          7,
          8,
          9,
          10,
          11,
          12,
          1,
          2,
          3,
          4,
          5,
          6,
          7,
          8,
          9,
          10,
          11,
          12,
          1,
          2,
          3,
          4,
          5,
          6,
          7,
          8,
          9,
          10,
          11,
          12,
          1,
          2,
          3,
          4,
          5,
          6,
          7,
          8,
          9,
          10,
          11,
          12,
          1,
          2,
          3,
          4,
          5,
          6,
          7,
          8,
          9,
          10,
          11,
          12,
          1,
          2,
          3,
          4,
          5,
          6,
          7,
          8,
          9,
          10,
          11,
          12,
          1,
          2,
          3,
          4,
          5,
          6,
          7,
          8,
          9,
          10,
          11,
          12,
          1,
          2,
          3,
          4,
          5,
          6,
          7,
          8,
          9,
          10,
          11,
          12,
          1,
          2,
          3,
          4,
          5,
          6,
          7,
          8,
          9,
          10,
          11,
          12,
          1,
          2,
          3,
          4,
          5,
          6,
          7,
          8,
          9,
          10,
          11,
          12,
          1,
          2,
          3,
          4,
          5,
          6,
          7,
          8,
          9,
          10,
          11,
          12,
          1,
          2,
          3,
          4,
          5,
          6,
          7,
          8,
          9,
          10,
          11,
          12,
          1,
          2,
          3,
          4,
          5,
          6,
          7,
          8,
          9,
          10,
          11,
          12,
          1,
          2,
          3,
          4,
          5,
          6,
          7,
          8,
          9,
          10,
          11,
          12,
          1,
          2,
          3,
          4,
          5,
          6,
          7,
          8,
          9,
          10,
          11,
          12,
          1,
          2,
          3,
          4,
          5,
          6
         ],
         "y": [
          67.6,
          67.50011778563017,
          68.82149532710281,
          70.25942790426153,
          68.30740524781342,
          66.97169373549885,
          66.23055555555555,
          64.56990740740741,
          63.16637881404721,
          64.51264367816093,
          66.99643882825961,
          69.65425287356322,
          71.91593375214163,
          71.72559726962457,
          72.80817253121454,
          71.94754098360656,
          69.91378728193585,
          69.79595505617978,
          68.28078873239437,
          67.13960563380282,
          65.32361189007291,
          63.169386606640415,
          60.897406989853444,
          61.80735710243352,
          64.24121964991531,
          66.45669291338582,
          66.65145413870246,
          63.182647385984424,
          61.11724137931034,
          60.05113952195664,
          59.70327595780123,
          60.15893746541229,
          60.152486187845305,
          60.146056260341965,
          62.65990071704357,
          65.69110005527916,
          67.72438084755092,
          68.12845439650465,
          66.53029315960913,
          68.42002176278564,
          69.45177111716622,
          68.82482308111052,
          69.57607395323545,
          72.51267605633804,
          77.3818574514039,
          83.48756756756758,
          85.45214092140921,
          82.79717851329355,
          73.9183585313175,
          71.16433941997852,
          75.39252934898613,
          76.22936170212768,
          78.99947117927024,
          79.90637849235635,
          78.42872228088702,
          78.0310290237467,
          76.35555555555555,
          76.48611838658984,
          75.3855497382199,
          76.9046768260641,
          78.86775039328789,
          78.15140771637122,
          79.46611484738747,
          81.27728674203496,
          79.9716049382716,
          76.37223650385604,
          73.4288638689867,
          72.53930753564156,
          74.72032193158954,
          76.60401606425704,
          77.565991902834,
          80.02560975609755,
          80.86737266767524,
          78.49582284851537,
          74.26186186186187,
          71.03841191066998,
          68.52029629629631,
          69.88270083785116,
          71.16972972972974,
          72.18911230995587,
          74.87432232626911,
          73.86045589692765,
          70.70332506203475,
          69.51080277502477,
          69.80513833992094,
          71.41857493857495,
          75.27789678675754,
          76.5194000967586,
          75.34699374699375,
          71.92629558541267,
          72.12289966394624,
          74.21029341029342,
          75.37304556354916,
          73.45102920057444,
          72.19372026641295,
          71.69980952380952,
          69.96684036001896,
          70.96457250826641,
          69.49658079625294,
          68.21154562383613,
          71.1516158818098,
          70.89908592321756,
          72.90283864632394,
          73.81138000602503,
          72.67913868993479,
          68.12077221075573,
          66.98759562198423,
          63.994139695949166,
          64.03660078714425,
          62.76512420296618,
          62.771579951953136,
          66.33577190020634,
          65.67110579081252,
          62.68576170761221,
          63.41238257542339,
          62.87943512143593,
          62.91828919891282,
          61.842656711861125,
          62.111034068321544,
          61.360784259246394,
          64.11201410329184,
          66.74399398360255,
          70.11648156742378,
          74.02116426386067,
          73.26751551485486,
          70.00903814832658,
          71.00082105948783,
          72.29469749716003,
          72.71631897234468,
          71.85409055785946,
          72.5182013043697,
          75.55139862851824,
          82.01504838277565,
          82.37532138322437,
          86.86741219061427,
          89.31375774768127,
          83.6664247402241,
          80.01701207680244,
          82.93481821159516,
          82.70674700390651,
          83.32532648123092,
          87.22512487799277,
          89.53719665826814,
          89.75858768478146,
          90.85879420264278,
          91.93940165947036,
          92.71814187068425,
          89.50431362322621,
          88.87496464547571,
          88.26989951106424,
          84.73007891612544,
          85.72656361907988,
          88.26353567523887,
          89.02761145959873,
          90.91785718939627,
          91.16336601321423,
          91.62758381101268,
          89.42911537434424,
          90.64625192784388,
          90.7405894267861,
          91.30395586941124,
          88.19377826504044,
          86.71381359269851,
          87.33137503901624,
          87.9508347248974,
          91.79176693242445,
          94.15237547679014,
          94.16045552652018,
          99.5844662186426,
          103.53137604831738,
          105.72636514835396,
          105.37895660390093,
          103.59310634720471,
          104.10878439895446,
          110.52591815320042,
          112.13023224526177,
          111.33675865748579,
          114.46092160735871,
          119.37108036806958,
          117.89516719758785,
          118.452592348539,
          114.3446289653292,
          114.38300179146957,
          115.57783422584205,
          113.57204432202855,
          109.6388672382437,
          105.38771610783813,
          104.82888265999766,
          98.60766143436508,
          90.84502896929844,
          91.74840732126606,
          87.06732903498573,
          92.62354589812423,
          93.97117805584728,
          95.69482471906338,
          92.42124708999796,
          89.93822740971379,
          87.5380645375418,
          83.47164103437815,
          81.99856343911017,
          75.51071126795567,
          70.52856711441325,
          72.73661400521227,
          77.60694522681335,
          81.32795802980576,
          82.45875461303844,
          86.54599447910387,
          88.36106067298098,
          93.80345110794214,
          90.96201343103836,
          82.74983046416054,
          78.37764083431425,
          71.80970670815456,
          74.59246015819154,
          81.43382427463524,
          80.79700150898087,
          81.72124566803973,
          84.74201878782767,
          84.5508386962341,
          80.17370063780704,
          80.51258406601269,
          75.02549714471664,
          73.68078537812592,
          73.63987531033608,
          72.21705045575368,
          73.42467920200883,
          75.68065133035495,
          78.61069206672691,
          81.14352911263667,
          82.13754470361111,
          83.66889324238205,
          82.56765852207805,
          79.09657466847852,
          75.12678464763825,
          73.68564646822907,
          73.03143928468417,
          67.71486101753005,
          70.18411010856978,
          74.15943516531368,
          77.51134356004889,
          79.8291280802881,
          78.3058474242108,
          73.89884353873273,
          71.10445455928296,
          71.76142967464138,
          71.3708848435009,
          63.25903798132775,
          66.89186589616726,
          67.44736437682498,
          68.7159162480606,
          69.40656114422298,
          69.98932714973472,
          70.98347745639991,
          71.88058430349716,
          72.01229249802739,
          74.58566432257147,
          73.99245899812404,
          75.1751958070785,
          75.43360329373671,
          75.89511892881818,
          76.30491050271591,
          75.06589199136626,
          78.3427115863399,
          82.94632032768776,
          81.05339536471894,
          81.50967869277729,
          81.60999499137404,
          81.15693388998614,
          81.42704655554644,
          79.75404220565557,
          80.90294185151683,
          80.36168294667608,
          81.32664887738875,
          82.13092090251399,
          85.61591610655972,
          87.58579096149894,
          88.01952067386436,
          88.6531046403404,
          91.71603122225314,
          95.14937550063784,
          96.02041252503066,
          100.13732797131519
         ]
        }
       ],
       "layout": {
        "template": {
         "data": {
          "bar": [
           {
            "error_x": {
             "color": "#2a3f5f"
            },
            "error_y": {
             "color": "#2a3f5f"
            },
            "marker": {
             "line": {
              "color": "#E5ECF6",
              "width": 0.5
             },
             "pattern": {
              "fillmode": "overlay",
              "size": 10,
              "solidity": 0.2
             }
            },
            "type": "bar"
           }
          ],
          "barpolar": [
           {
            "marker": {
             "line": {
              "color": "#E5ECF6",
              "width": 0.5
             },
             "pattern": {
              "fillmode": "overlay",
              "size": 10,
              "solidity": 0.2
             }
            },
            "type": "barpolar"
           }
          ],
          "carpet": [
           {
            "aaxis": {
             "endlinecolor": "#2a3f5f",
             "gridcolor": "white",
             "linecolor": "white",
             "minorgridcolor": "white",
             "startlinecolor": "#2a3f5f"
            },
            "baxis": {
             "endlinecolor": "#2a3f5f",
             "gridcolor": "white",
             "linecolor": "white",
             "minorgridcolor": "white",
             "startlinecolor": "#2a3f5f"
            },
            "type": "carpet"
           }
          ],
          "choropleth": [
           {
            "colorbar": {
             "outlinewidth": 0,
             "ticks": ""
            },
            "type": "choropleth"
           }
          ],
          "contour": [
           {
            "colorbar": {
             "outlinewidth": 0,
             "ticks": ""
            },
            "colorscale": [
             [
              0,
              "#0d0887"
             ],
             [
              0.1111111111111111,
              "#46039f"
             ],
             [
              0.2222222222222222,
              "#7201a8"
             ],
             [
              0.3333333333333333,
              "#9c179e"
             ],
             [
              0.4444444444444444,
              "#bd3786"
             ],
             [
              0.5555555555555556,
              "#d8576b"
             ],
             [
              0.6666666666666666,
              "#ed7953"
             ],
             [
              0.7777777777777778,
              "#fb9f3a"
             ],
             [
              0.8888888888888888,
              "#fdca26"
             ],
             [
              1,
              "#f0f921"
             ]
            ],
            "type": "contour"
           }
          ],
          "contourcarpet": [
           {
            "colorbar": {
             "outlinewidth": 0,
             "ticks": ""
            },
            "type": "contourcarpet"
           }
          ],
          "heatmap": [
           {
            "colorbar": {
             "outlinewidth": 0,
             "ticks": ""
            },
            "colorscale": [
             [
              0,
              "#0d0887"
             ],
             [
              0.1111111111111111,
              "#46039f"
             ],
             [
              0.2222222222222222,
              "#7201a8"
             ],
             [
              0.3333333333333333,
              "#9c179e"
             ],
             [
              0.4444444444444444,
              "#bd3786"
             ],
             [
              0.5555555555555556,
              "#d8576b"
             ],
             [
              0.6666666666666666,
              "#ed7953"
             ],
             [
              0.7777777777777778,
              "#fb9f3a"
             ],
             [
              0.8888888888888888,
              "#fdca26"
             ],
             [
              1,
              "#f0f921"
             ]
            ],
            "type": "heatmap"
           }
          ],
          "heatmapgl": [
           {
            "colorbar": {
             "outlinewidth": 0,
             "ticks": ""
            },
            "colorscale": [
             [
              0,
              "#0d0887"
             ],
             [
              0.1111111111111111,
              "#46039f"
             ],
             [
              0.2222222222222222,
              "#7201a8"
             ],
             [
              0.3333333333333333,
              "#9c179e"
             ],
             [
              0.4444444444444444,
              "#bd3786"
             ],
             [
              0.5555555555555556,
              "#d8576b"
             ],
             [
              0.6666666666666666,
              "#ed7953"
             ],
             [
              0.7777777777777778,
              "#fb9f3a"
             ],
             [
              0.8888888888888888,
              "#fdca26"
             ],
             [
              1,
              "#f0f921"
             ]
            ],
            "type": "heatmapgl"
           }
          ],
          "histogram": [
           {
            "marker": {
             "pattern": {
              "fillmode": "overlay",
              "size": 10,
              "solidity": 0.2
             }
            },
            "type": "histogram"
           }
          ],
          "histogram2d": [
           {
            "colorbar": {
             "outlinewidth": 0,
             "ticks": ""
            },
            "colorscale": [
             [
              0,
              "#0d0887"
             ],
             [
              0.1111111111111111,
              "#46039f"
             ],
             [
              0.2222222222222222,
              "#7201a8"
             ],
             [
              0.3333333333333333,
              "#9c179e"
             ],
             [
              0.4444444444444444,
              "#bd3786"
             ],
             [
              0.5555555555555556,
              "#d8576b"
             ],
             [
              0.6666666666666666,
              "#ed7953"
             ],
             [
              0.7777777777777778,
              "#fb9f3a"
             ],
             [
              0.8888888888888888,
              "#fdca26"
             ],
             [
              1,
              "#f0f921"
             ]
            ],
            "type": "histogram2d"
           }
          ],
          "histogram2dcontour": [
           {
            "colorbar": {
             "outlinewidth": 0,
             "ticks": ""
            },
            "colorscale": [
             [
              0,
              "#0d0887"
             ],
             [
              0.1111111111111111,
              "#46039f"
             ],
             [
              0.2222222222222222,
              "#7201a8"
             ],
             [
              0.3333333333333333,
              "#9c179e"
             ],
             [
              0.4444444444444444,
              "#bd3786"
             ],
             [
              0.5555555555555556,
              "#d8576b"
             ],
             [
              0.6666666666666666,
              "#ed7953"
             ],
             [
              0.7777777777777778,
              "#fb9f3a"
             ],
             [
              0.8888888888888888,
              "#fdca26"
             ],
             [
              1,
              "#f0f921"
             ]
            ],
            "type": "histogram2dcontour"
           }
          ],
          "mesh3d": [
           {
            "colorbar": {
             "outlinewidth": 0,
             "ticks": ""
            },
            "type": "mesh3d"
           }
          ],
          "parcoords": [
           {
            "line": {
             "colorbar": {
              "outlinewidth": 0,
              "ticks": ""
             }
            },
            "type": "parcoords"
           }
          ],
          "pie": [
           {
            "automargin": true,
            "type": "pie"
           }
          ],
          "scatter": [
           {
            "fillpattern": {
             "fillmode": "overlay",
             "size": 10,
             "solidity": 0.2
            },
            "type": "scatter"
           }
          ],
          "scatter3d": [
           {
            "line": {
             "colorbar": {
              "outlinewidth": 0,
              "ticks": ""
             }
            },
            "marker": {
             "colorbar": {
              "outlinewidth": 0,
              "ticks": ""
             }
            },
            "type": "scatter3d"
           }
          ],
          "scattercarpet": [
           {
            "marker": {
             "colorbar": {
              "outlinewidth": 0,
              "ticks": ""
             }
            },
            "type": "scattercarpet"
           }
          ],
          "scattergeo": [
           {
            "marker": {
             "colorbar": {
              "outlinewidth": 0,
              "ticks": ""
             }
            },
            "type": "scattergeo"
           }
          ],
          "scattergl": [
           {
            "marker": {
             "colorbar": {
              "outlinewidth": 0,
              "ticks": ""
             }
            },
            "type": "scattergl"
           }
          ],
          "scattermapbox": [
           {
            "marker": {
             "colorbar": {
              "outlinewidth": 0,
              "ticks": ""
             }
            },
            "type": "scattermapbox"
           }
          ],
          "scatterpolar": [
           {
            "marker": {
             "colorbar": {
              "outlinewidth": 0,
              "ticks": ""
             }
            },
            "type": "scatterpolar"
           }
          ],
          "scatterpolargl": [
           {
            "marker": {
             "colorbar": {
              "outlinewidth": 0,
              "ticks": ""
             }
            },
            "type": "scatterpolargl"
           }
          ],
          "scatterternary": [
           {
            "marker": {
             "colorbar": {
              "outlinewidth": 0,
              "ticks": ""
             }
            },
            "type": "scatterternary"
           }
          ],
          "surface": [
           {
            "colorbar": {
             "outlinewidth": 0,
             "ticks": ""
            },
            "colorscale": [
             [
              0,
              "#0d0887"
             ],
             [
              0.1111111111111111,
              "#46039f"
             ],
             [
              0.2222222222222222,
              "#7201a8"
             ],
             [
              0.3333333333333333,
              "#9c179e"
             ],
             [
              0.4444444444444444,
              "#bd3786"
             ],
             [
              0.5555555555555556,
              "#d8576b"
             ],
             [
              0.6666666666666666,
              "#ed7953"
             ],
             [
              0.7777777777777778,
              "#fb9f3a"
             ],
             [
              0.8888888888888888,
              "#fdca26"
             ],
             [
              1,
              "#f0f921"
             ]
            ],
            "type": "surface"
           }
          ],
          "table": [
           {
            "cells": {
             "fill": {
              "color": "#EBF0F8"
             },
             "line": {
              "color": "white"
             }
            },
            "header": {
             "fill": {
              "color": "#C8D4E3"
             },
             "line": {
              "color": "white"
             }
            },
            "type": "table"
           }
          ]
         },
         "layout": {
          "annotationdefaults": {
           "arrowcolor": "#2a3f5f",
           "arrowhead": 0,
           "arrowwidth": 1
          },
          "autotypenumbers": "strict",
          "coloraxis": {
           "colorbar": {
            "outlinewidth": 0,
            "ticks": ""
           }
          },
          "colorscale": {
           "diverging": [
            [
             0,
             "#8e0152"
            ],
            [
             0.1,
             "#c51b7d"
            ],
            [
             0.2,
             "#de77ae"
            ],
            [
             0.3,
             "#f1b6da"
            ],
            [
             0.4,
             "#fde0ef"
            ],
            [
             0.5,
             "#f7f7f7"
            ],
            [
             0.6,
             "#e6f5d0"
            ],
            [
             0.7,
             "#b8e186"
            ],
            [
             0.8,
             "#7fbc41"
            ],
            [
             0.9,
             "#4d9221"
            ],
            [
             1,
             "#276419"
            ]
           ],
           "sequential": [
            [
             0,
             "#0d0887"
            ],
            [
             0.1111111111111111,
             "#46039f"
            ],
            [
             0.2222222222222222,
             "#7201a8"
            ],
            [
             0.3333333333333333,
             "#9c179e"
            ],
            [
             0.4444444444444444,
             "#bd3786"
            ],
            [
             0.5555555555555556,
             "#d8576b"
            ],
            [
             0.6666666666666666,
             "#ed7953"
            ],
            [
             0.7777777777777778,
             "#fb9f3a"
            ],
            [
             0.8888888888888888,
             "#fdca26"
            ],
            [
             1,
             "#f0f921"
            ]
           ],
           "sequentialminus": [
            [
             0,
             "#0d0887"
            ],
            [
             0.1111111111111111,
             "#46039f"
            ],
            [
             0.2222222222222222,
             "#7201a8"
            ],
            [
             0.3333333333333333,
             "#9c179e"
            ],
            [
             0.4444444444444444,
             "#bd3786"
            ],
            [
             0.5555555555555556,
             "#d8576b"
            ],
            [
             0.6666666666666666,
             "#ed7953"
            ],
            [
             0.7777777777777778,
             "#fb9f3a"
            ],
            [
             0.8888888888888888,
             "#fdca26"
            ],
            [
             1,
             "#f0f921"
            ]
           ]
          },
          "colorway": [
           "#636efa",
           "#EF553B",
           "#00cc96",
           "#ab63fa",
           "#FFA15A",
           "#19d3f3",
           "#FF6692",
           "#B6E880",
           "#FF97FF",
           "#FECB52"
          ],
          "font": {
           "color": "#2a3f5f"
          },
          "geo": {
           "bgcolor": "white",
           "lakecolor": "white",
           "landcolor": "#E5ECF6",
           "showlakes": true,
           "showland": true,
           "subunitcolor": "white"
          },
          "hoverlabel": {
           "align": "left"
          },
          "hovermode": "closest",
          "mapbox": {
           "style": "light"
          },
          "paper_bgcolor": "white",
          "plot_bgcolor": "#E5ECF6",
          "polar": {
           "angularaxis": {
            "gridcolor": "white",
            "linecolor": "white",
            "ticks": ""
           },
           "bgcolor": "#E5ECF6",
           "radialaxis": {
            "gridcolor": "white",
            "linecolor": "white",
            "ticks": ""
           }
          },
          "scene": {
           "xaxis": {
            "backgroundcolor": "#E5ECF6",
            "gridcolor": "white",
            "gridwidth": 2,
            "linecolor": "white",
            "showbackground": true,
            "ticks": "",
            "zerolinecolor": "white"
           },
           "yaxis": {
            "backgroundcolor": "#E5ECF6",
            "gridcolor": "white",
            "gridwidth": 2,
            "linecolor": "white",
            "showbackground": true,
            "ticks": "",
            "zerolinecolor": "white"
           },
           "zaxis": {
            "backgroundcolor": "#E5ECF6",
            "gridcolor": "white",
            "gridwidth": 2,
            "linecolor": "white",
            "showbackground": true,
            "ticks": "",
            "zerolinecolor": "white"
           }
          },
          "shapedefaults": {
           "line": {
            "color": "#2a3f5f"
           }
          },
          "ternary": {
           "aaxis": {
            "gridcolor": "white",
            "linecolor": "white",
            "ticks": ""
           },
           "baxis": {
            "gridcolor": "white",
            "linecolor": "white",
            "ticks": ""
           },
           "bgcolor": "#E5ECF6",
           "caxis": {
            "gridcolor": "white",
            "linecolor": "white",
            "ticks": ""
           }
          },
          "title": {
           "x": 0.05
          },
          "xaxis": {
           "automargin": true,
           "gridcolor": "white",
           "linecolor": "white",
           "ticks": "",
           "title": {
            "standoff": 15
           },
           "zerolinecolor": "white",
           "zerolinewidth": 2
          },
          "yaxis": {
           "automargin": true,
           "gridcolor": "white",
           "linecolor": "white",
           "ticks": "",
           "title": {
            "standoff": 15
           },
           "zerolinecolor": "white",
           "zerolinewidth": 2
          }
         }
        },
        "title": {
         "text": "Price Received for GE 500 by Month (Adj. CPI)"
        },
        "xaxis": {
         "anchor": "y",
         "domain": [
          0,
          1
         ],
         "title": {
          "text": "Month"
         }
        },
        "yaxis": {
         "anchor": "x",
         "domain": [
          0,
          1
         ],
         "title": {
          "text": "Adjusted Price Received"
         }
        }
       }
      }
     },
     "metadata": {},
     "output_type": "display_data"
    }
   ],
   "source": [
    "import plotly.subplots as sp\n",
    "\n",
    "fig = sp.make_subplots(rows=1, cols=1)\n",
    "\n",
    "fig.add_box(y=df_adj['adj_price_received_ge_500_national'], x=df_adj['month'], name='Price Received')\n",
    "\n",
    "fig.update_layout(title='Price Received for GE 500 by Month (Adj. CPI)',\n",
    "                  xaxis_title='Month',\n",
    "                  yaxis_title='Adjusted Price Received')\n",
    "\n",
    "fig.show()"
   ]
  },
  {
   "cell_type": "code",
   "execution_count": 31,
   "metadata": {},
   "outputs": [
    {
     "data": {
      "text/plain": [
       "Text(0.5, 1.0, 'Mean Price Received for GE 500 National Futures by Month $/cwt (Adj. CPI)')"
      ]
     },
     "execution_count": 31,
     "metadata": {},
     "output_type": "execute_result"
    },
    {
     "data": {
      "image/png": "[encoded data removed]",
      "text/plain": [
       "<Figure size 1152x576 with 1 Axes>"
      ]
     },
     "metadata": {},
     "output_type": "display_data"
    }
   ],
   "source": [
    "df_adj.groupby('month')['adj_price_received_ge_500_national'].mean().plot()\n",
    "plt.title('Mean Price Received for GE 500 National Futures by Month $/cwt (Adj. CPI)')"
   ]
  },
  {
   "cell_type": "markdown",
   "metadata": {},
   "source": [
    "- Cash price received is greater in first half of the year, with maximum in May, and lower during second half of the year, min at October\n",
    "- Price variance is also higher during first half of the year compared to second half"
   ]
  },
  {
   "cell_type": "markdown",
   "metadata": {},
   "source": [
    "#### Regressing monthly % change in price with lag of one month"
   ]
  },
  {
   "cell_type": "code",
   "execution_count": 32,
   "metadata": {},
   "outputs": [
    {
     "name": "stdout",
     "output_type": "stream",
     "text": [
      "                            OLS Regression Results                            \n",
      "==============================================================================\n",
      "Dep. Variable:                  Value   R-squared:                       0.125\n",
      "Model:                            OLS   Adj. R-squared:                  0.122\n",
      "Method:                 Least Squares   F-statistic:                     39.87\n",
      "Date:                Sun, 10 Sep 2023   Prob (F-statistic):           1.07e-09\n",
      "Time:                        11:47:03   Log-Likelihood:                -719.53\n",
      "No. Observations:                 280   AIC:                             1443.\n",
      "Df Residuals:                     278   BIC:                             1450.\n",
      "Df Model:                           1                                         \n",
      "Covariance Type:            nonrobust                                         \n",
      "================================================================================================================\n",
      "                                                   coef    std err          t      P>|t|      [0.025      0.975]\n",
      "----------------------------------------------------------------------------------------------------------------\n",
      "const                                            0.2685      0.191      1.407      0.161      -0.107       0.644\n",
      "price_received_ge_500_national_pct_chg_lag_1     0.3551      0.056      6.314      0.000       0.244       0.466\n",
      "==============================================================================\n",
      "Omnibus:                        4.673   Durbin-Watson:                   1.931\n",
      "Prob(Omnibus):                  0.097   Jarque-Bera (JB):                5.234\n",
      "Skew:                          -0.159   Prob(JB):                       0.0730\n",
      "Kurtosis:                       3.589   Cond. No.                         3.42\n",
      "==============================================================================\n",
      "\n",
      "Notes:\n",
      "[1] Standard Errors assume that the covariance matrix of the errors is correctly specified.\n"
     ]
    }
   ],
   "source": [
    "import statsmodels.api as sm\n",
    "\n",
    "\n",
    "price_received_ge_500_national_pct_chg = price_received_ge_500_national.pct_change()*100\n",
    "\n",
    "X = price_received_ge_500_national_pct_chg.shift(1).dropna()\n",
    "X.name = 'price_received_ge_500_national_pct_chg_lag_1'\n",
    "X = sm.add_constant(X)\n",
    "\n",
    "y = price_received_ge_500_national_pct_chg[X.index]\n",
    "\n",
    "model = sm.OLS(y, X).fit()\n",
    "\n",
    "print(model.summary())"
   ]
  },
  {
   "cell_type": "markdown",
   "metadata": {},
   "source": [
    "- Since we are not adjusting for inflation, we expected a positive constant\n",
    "    - I had tested regressing with CPI adjusted data --> constant is still positive, but half the magnitude and T-value increases"
   ]
  },
  {
   "cell_type": "markdown",
   "metadata": {},
   "source": [
    "#### Regressing monthly % change in price with lag of 12 months"
   ]
  },
  {
   "cell_type": "code",
   "execution_count": 33,
   "metadata": {},
   "outputs": [],
   "source": [
    "import statsmodels.api as sm\n",
    "import pandas as pd\n",
    "\n",
    "lags = 12\n",
    "for i in range(1, lags+1):\n",
    "    \n",
    "    price_received_ge_500_national_pct_chg_lag = price_received_ge_500_national.pct_change().shift(i)*100\n",
    "    price_received_ge_500_national_pct_chg_lag.name = f'price_received_ge_500_national_pct_chg_lag_{i}'\n",
    "\n",
    "    if i == 1:\n",
    "        X = price_received_ge_500_national_pct_chg_lag.dropna()\n",
    "    else:\n",
    "        X = pd.concat([X, price_received_ge_500_national_pct_chg_lag], axis=1)"
   ]
  },
  {
   "cell_type": "code",
   "execution_count": 34,
   "metadata": {},
   "outputs": [
    {
     "name": "stdout",
     "output_type": "stream",
     "text": [
      "                            OLS Regression Results                            \n",
      "==============================================================================\n",
      "Dep. Variable:                  Value   R-squared:                       0.215\n",
      "Model:                            OLS   Adj. R-squared:                  0.178\n",
      "Method:                 Least Squares   F-statistic:                     5.849\n",
      "Date:                Sun, 10 Sep 2023   Prob (F-statistic):           5.84e-09\n",
      "Time:                        11:47:03   Log-Likelihood:                -678.84\n",
      "No. Observations:                 269   AIC:                             1384.\n",
      "Df Residuals:                     256   BIC:                             1430.\n",
      "Df Model:                          12                                         \n",
      "Covariance Type:            nonrobust                                         \n",
      "=================================================================================================================\n",
      "                                                    coef    std err          t      P>|t|      [0.025      0.975]\n",
      "-----------------------------------------------------------------------------------------------------------------\n",
      "const                                             0.2676      0.200      1.335      0.183      -0.127       0.662\n",
      "price_received_ge_500_national_pct_chg_lag_1      0.3150      0.062      5.050      0.000       0.192       0.438\n",
      "price_received_ge_500_national_pct_chg_lag_2     -0.0824      0.065     -1.259      0.209      -0.211       0.046\n",
      "price_received_ge_500_national_pct_chg_lag_3     -0.0022      0.065     -0.035      0.972      -0.130       0.125\n",
      "price_received_ge_500_national_pct_chg_lag_4     -0.1620      0.065     -2.499      0.013      -0.290      -0.034\n",
      "price_received_ge_500_national_pct_chg_lag_5     -0.0040      0.066     -0.060      0.952      -0.133       0.125\n",
      "price_received_ge_500_national_pct_chg_lag_6      0.0145      0.065      0.221      0.825      -0.114       0.143\n",
      "price_received_ge_500_national_pct_chg_lag_7     -0.0445      0.065     -0.679      0.498      -0.173       0.084\n",
      "price_received_ge_500_national_pct_chg_lag_8     -0.0092      0.066     -0.140      0.889      -0.139       0.120\n",
      "price_received_ge_500_national_pct_chg_lag_9      0.0600      0.065      0.927      0.355      -0.067       0.187\n",
      "price_received_ge_500_national_pct_chg_lag_10     0.1691      0.065      2.607      0.010       0.041       0.297\n",
      "price_received_ge_500_national_pct_chg_lag_11     0.0047      0.065      0.072      0.943      -0.124       0.134\n",
      "price_received_ge_500_national_pct_chg_lag_12     0.1097      0.062      1.757      0.080      -0.013       0.233\n",
      "==============================================================================\n",
      "Omnibus:                        4.328   Durbin-Watson:                   1.969\n",
      "Prob(Omnibus):                  0.115   Jarque-Bera (JB):                4.127\n",
      "Skew:                          -0.230   Prob(JB):                        0.127\n",
      "Kurtosis:                       3.396   Cond. No.                         5.74\n",
      "==============================================================================\n",
      "\n",
      "Notes:\n",
      "[1] Standard Errors assume that the covariance matrix of the errors is correctly specified.\n"
     ]
    }
   ],
   "source": [
    "X = X.dropna()\n",
    "X = sm.add_constant(X)\n",
    "\n",
    "y = price_received_ge_500_national_pct_chg[X.index]\n",
    "\n",
    "model = sm.OLS(y, X).fit()\n",
    "\n",
    "print(model.summary())"
   ]
  },
  {
   "cell_type": "code",
   "execution_count": 35,
   "metadata": {},
   "outputs": [
    {
     "data": {
      "image/png": "[encoded data removed]",
      "text/plain": [
       "<Figure size 1152x576 with 2 Axes>"
      ]
     },
     "metadata": {},
     "output_type": "display_data"
    }
   ],
   "source": [
    "src.plot_coefficients_pvalues(model)"
   ]
  },
  {
   "cell_type": "markdown",
   "metadata": {},
   "source": [
    "#### Regressing monthly % change in price with dummy for each month"
   ]
  },
  {
   "cell_type": "code",
   "execution_count": 43,
   "metadata": {},
   "outputs": [
    {
     "name": "stdout",
     "output_type": "stream",
     "text": [
      "                                      OLS Regression Results                                      \n",
      "==================================================================================================\n",
      "Dep. Variable:     price_received_ge_500_national_pct_chg   R-squared:                       0.110\n",
      "Model:                                                OLS   Adj. R-squared:                  0.074\n",
      "Method:                                     Least Squares   F-statistic:                     3.030\n",
      "Date:                                    Sun, 10 Sep 2023   Prob (F-statistic):           0.000779\n",
      "Time:                                            11:48:35   Log-Likelihood:                -724.02\n",
      "No. Observations:                                     281   AIC:                             1472.\n",
      "Df Residuals:                                         269   BIC:                             1516.\n",
      "Df Model:                                              11                                         \n",
      "Covariance Type:                                nonrobust                                         \n",
      "==============================================================================\n",
      "                 coef    std err          t      P>|t|      [0.025      0.975]\n",
      "------------------------------------------------------------------------------\n",
      "month_1        2.1714      0.678      3.202      0.002       0.836       3.507\n",
      "month_2        0.8761      0.664      1.319      0.188      -0.431       2.183\n",
      "month_3        1.7481      0.664      2.633      0.009       0.441       3.055\n",
      "month_4        0.5240      0.664      0.789      0.431      -0.783       1.831\n",
      "month_5       -0.3791      0.664     -0.571      0.568      -1.686       0.928\n",
      "month_6       -1.5849      0.664     -2.387      0.018      -2.892      -0.278\n",
      "month_7       -1.1189      0.678     -1.650      0.100      -2.454       0.216\n",
      "month_8        0.3780      0.678      0.557      0.578      -0.957       1.713\n",
      "month_9       -0.5739      0.678     -0.846      0.398      -1.909       0.761\n",
      "month_10       0.2388      0.678      0.352      0.725      -1.096       1.574\n",
      "month_11       1.7123      0.678      2.525      0.012       0.377       3.048\n",
      "month_12       0.9456      0.678      1.394      0.164      -0.390       2.281\n",
      "==============================================================================\n",
      "Omnibus:                       13.084   Durbin-Watson:                   1.327\n",
      "Prob(Omnibus):                  0.001   Jarque-Bera (JB):               15.302\n",
      "Skew:                          -0.418   Prob(JB):                     0.000475\n",
      "Kurtosis:                       3.781   Cond. No.                         1.02\n",
      "==============================================================================\n",
      "\n",
      "Notes:\n",
      "[1] Standard Errors assume that the covariance matrix of the errors is correctly specified.\n"
     ]
    }
   ],
   "source": [
    "X = pd.get_dummies(df.month)\n",
    "X.columns = [ f'month_{i}' for i in X.columns]\n",
    "# X = sm.add_constant(X)\n",
    "\n",
    "y = price_received_ge_500_national_pct_chg\n",
    "y = y.dropna()\n",
    "y.name = 'price_received_ge_500_national_pct_chg'\n",
    "\n",
    "model = sm.OLS(y, X.loc[y.index, :]).fit()\n",
    "\n",
    "print(model.summary())"
   ]
  },
  {
   "cell_type": "markdown",
   "metadata": {},
   "source": [
    "- R-squared not that high, therefore a large part of the variation of the % ∆ in price is not explained by month\n",
    "- "
   ]
  },
  {
   "cell_type": "code",
   "execution_count": 44,
   "metadata": {},
   "outputs": [
    {
     "data": {
      "text/plain": [
       "Text(0.5, 1.0, 'Mean Price Received for GE 500 National Futures by Month $/cwt (Adj. CPI)')"
      ]
     },
     "execution_count": 44,
     "metadata": {},
     "output_type": "execute_result"
    },
    {
     "data": {
      "image/png": "[encoded data removed]",
      "text/plain": [
       "<Figure size 1152x576 with 1 Axes>"
      ]
     },
     "metadata": {},
     "output_type": "display_data"
    }
   ],
   "source": [
    "df_adj.groupby('month')['adj_price_received_ge_500_national'].mean().plot()\n",
    "plt.title('Mean Price Received for GE 500 National Futures by Month $/cwt (Adj. CPI)')"
   ]
  },
  {
   "cell_type": "code",
   "execution_count": 45,
   "metadata": {},
   "outputs": [
    {
     "data": {
      "image/png": "[encoded data removed]",
      "text/plain": [
       "<Figure size 1152x576 with 2 Axes>"
      ]
     },
     "metadata": {},
     "output_type": "display_data"
    }
   ],
   "source": [
    "src.plot_coefficients_pvalues(model)"
   ]
  },
  {
   "cell_type": "markdown",
   "metadata": {},
   "source": [
    "- Price appreciation generally occuring from November to April, with sharpest increase in January\n",
    "- June is expected to experience sharpest drop in price (-1.5%)"
   ]
  },
  {
   "cell_type": "markdown",
   "metadata": {},
   "source": [
    "### Lags and Dummies"
   ]
  },
  {
   "cell_type": "code",
   "execution_count": 39,
   "metadata": {},
   "outputs": [],
   "source": [
    "import statsmodels.api as sm\n",
    "import pandas as pd\n",
    "\n",
    "lags = 12\n",
    "\n",
    "for i in range(1, lags+1):\n",
    "    \n",
    "    price_received_ge_500_national_pct_chg_lag = price_received_ge_500_national.pct_change().shift(i)*100\n",
    "    price_received_ge_500_national_pct_chg_lag.name = f'price_received_ge_500_national_pct_chg_lag_{i}'\n",
    "\n",
    "    if i == 1:\n",
    "        X_lags = price_received_ge_500_national_pct_chg_lag.dropna()\n",
    "    else:\n",
    "        X_lags = pd.concat([X_lags, price_received_ge_500_national_pct_chg_lag], axis=1)\n"
   ]
  },
  {
   "cell_type": "code",
   "execution_count": 40,
   "metadata": {},
   "outputs": [
    {
     "name": "stdout",
     "output_type": "stream",
     "text": [
      "                                      OLS Regression Results                                      \n",
      "==================================================================================================\n",
      "Dep. Variable:     price_received_ge_500_national_pct_chg   R-squared:                       0.282\n",
      "Model:                                                OLS   Adj. R-squared:                  0.214\n",
      "Method:                                     Least Squares   F-statistic:                     4.179\n",
      "Date:                                    Sun, 10 Sep 2023   Prob (F-statistic):           5.99e-09\n",
      "Time:                                            11:47:04   Log-Likelihood:                -666.91\n",
      "No. Observations:                                     269   AIC:                             1382.\n",
      "Df Residuals:                                         245   BIC:                             1468.\n",
      "Df Model:                                              23                                         \n",
      "Covariance Type:                                nonrobust                                         \n",
      "=================================================================================================================\n",
      "                                                    coef    std err          t      P>|t|      [0.025      0.975]\n",
      "-----------------------------------------------------------------------------------------------------------------\n",
      "const                                             0.2323      0.181      1.284      0.200      -0.124       0.589\n",
      "price_received_ge_500_national_pct_chg_lag_1      0.3134      0.064      4.866      0.000       0.187       0.440\n",
      "price_received_ge_500_national_pct_chg_lag_2     -0.0974      0.067     -1.443      0.150      -0.230       0.036\n",
      "price_received_ge_500_national_pct_chg_lag_3      0.0034      0.067      0.050      0.960      -0.128       0.135\n",
      "price_received_ge_500_national_pct_chg_lag_4     -0.1694      0.067     -2.539      0.012      -0.301      -0.038\n",
      "price_received_ge_500_national_pct_chg_lag_5      0.0060      0.068      0.089      0.929      -0.127       0.139\n",
      "price_received_ge_500_national_pct_chg_lag_6      0.0546      0.068      0.808      0.420      -0.078       0.188\n",
      "price_received_ge_500_national_pct_chg_lag_7     -0.0319      0.068     -0.473      0.637      -0.165       0.101\n",
      "price_received_ge_500_national_pct_chg_lag_8      0.0049      0.068      0.073      0.942      -0.128       0.138\n",
      "price_received_ge_500_national_pct_chg_lag_9      0.0800      0.067      1.202      0.231      -0.051       0.211\n",
      "price_received_ge_500_national_pct_chg_lag_10     0.1788      0.067      2.679      0.008       0.047       0.310\n",
      "price_received_ge_500_national_pct_chg_lag_11     0.0275      0.067      0.408      0.684      -0.105       0.160\n",
      "price_received_ge_500_national_pct_chg_lag_12     0.0379      0.065      0.587      0.558      -0.089       0.165\n",
      "month_1                                           1.2569      0.651      1.929      0.055      -0.026       2.540\n",
      "month_2                                          -0.0420      0.637     -0.066      0.947      -1.297       1.213\n",
      "month_3                                           1.8908      0.636      2.974      0.003       0.638       3.143\n",
      "month_4                                           0.3037      0.647      0.470      0.639      -0.970       1.577\n",
      "month_5                                           0.0256      0.647      0.039      0.969      -1.249       1.300\n",
      "month_6                                          -1.4775      0.645     -2.290      0.023      -2.748      -0.207\n",
      "month_7                                          -0.5035      0.658     -0.765      0.445      -1.800       0.793\n",
      "month_8                                           0.3465      0.654      0.530      0.597      -0.941       1.634\n",
      "month_9                                          -1.4889      0.651     -2.288      0.023      -2.771      -0.207\n",
      "month_10                                         -0.5419      0.658     -0.824      0.411      -1.838       0.754\n",
      "month_11                                          0.5708      0.659      0.867      0.387      -0.727       1.868\n",
      "month_12                                         -0.1081      0.651     -0.166      0.868      -1.391       1.175\n",
      "==============================================================================\n",
      "Omnibus:                        5.519   Durbin-Watson:                   1.976\n",
      "Prob(Omnibus):                  0.063   Jarque-Bera (JB):                5.444\n",
      "Skew:                          -0.267   Prob(JB):                       0.0657\n",
      "Kurtosis:                       3.449   Cond. No.                     4.77e+16\n",
      "==============================================================================\n",
      "\n",
      "Notes:\n",
      "[1] Standard Errors assume that the covariance matrix of the errors is correctly specified.\n",
      "[2] The smallest eigenvalue is 3.42e-30. This might indicate that there are\n",
      "strong multicollinearity problems or that the design matrix is singular.\n"
     ]
    }
   ],
   "source": [
    "X_dummies = pd.get_dummies(df.month)\n",
    "X_dummies.columns = [ f'month_{i}' for i in X_dummies.columns]\n",
    "\n",
    "X = pd.concat([X_lags, X_dummies], axis=1)\n",
    "\n",
    "X = X.dropna()\n",
    "\n",
    "X = sm.add_constant(X)\n",
    "\n",
    "y = price_received_ge_500_national_pct_chg[X.index]\n",
    "y = y.dropna()\n",
    "y.name = 'price_received_ge_500_national_pct_chg'\n",
    "\n",
    "model = sm.OLS(y, X.loc[y.index, :]).fit()\n",
    "\n",
    "print(model.summary())"
   ]
  },
  {
   "cell_type": "markdown",
   "metadata": {},
   "source": [
    "## Testing various models"
   ]
  },
  {
   "cell_type": "markdown",
   "metadata": {},
   "source": [
    "- Test various models in increasing complexity to determine how well price can be predicted on past price behaviour and seasonality alone\n",
    "- Testing is done using rolling train test splits, and the average mean absolute error across all predictions made during each test split\n",
    "- Since we are predicting on a percentage level, mean absolute error tells us how many percentage points our prediction was 'off' in terms of magnitude (e.g. if we predict +3%, but realised is -1% this will contribute 4% to our mean absolute error, which will be an average of such errors)\n",
    "\n",
    "##### Models Tested\n",
    " - Naive model\n",
    " - Seasonal Dummy Model (Regression)\n",
    " - Seasonal Dummy and Lagged Model (Regression)\n",
    " - Facebook Prophet"
   ]
  },
  {
   "cell_type": "markdown",
   "metadata": {},
   "source": [
    "#### Naive Model"
   ]
  },
  {
   "cell_type": "code",
   "execution_count": 113,
   "metadata": {},
   "outputs": [],
   "source": [
    "errors_naive = list(price_received_ge_500_national_pct_chg.dropna())"
   ]
  },
  {
   "cell_type": "code",
   "execution_count": 114,
   "metadata": {},
   "outputs": [
    {
     "data": {
      "text/plain": [
       "[0.44378698224853963,\n",
       " 2.7982326951399017,\n",
       " 2.148997134670494,\n",
       " -2.66479663394108,\n",
       " -1.4409221902017322,\n",
       " -0.8771929824561542,\n",
       " -2.507374631268444,\n",
       " -1.6641452344931862,\n",
       " 2.3076923076922995,\n",
       " 3.9097744360902187,\n",
       " 3.90738060781477,\n",
       " 3.899721448467952,\n",
       " 0.13404825737266535,\n",
       " 1.7402945113788482,\n",
       " -0.7894736842105177,\n",
       " -2.3872679045092937,\n",
       " 0.0,\n",
       " -2.4456521739130377,\n",
       " -1.6713091922005652,\n",
       " -2.2662889518413554,\n",
       " -3.6231884057971064,\n",
       " -3.759398496240607,\n",
       " 1.0937500000000044,\n",
       " 4.173106646058744,\n",
       " 3.857566765578624,\n",
       " 0.8571428571428452,\n",
       " -4.674220963172804,\n",
       " -3.268945022288261,\n",
       " -1.6897081413210335,\n",
       " -0.46874999999999556,\n",
       " 1.098901098901095,\n",
       " 0.15527950310558758,\n",
       " 0.15503875968991832,\n",
       " 4.179566563467496,\n",
       " 4.606240713224374,\n",
       " 3.5511363636363535,\n",
       " 1.3717421124828544,\n",
       " -1.7591339648173387,\n",
       " 2.6170798898071723,\n",
       " 1.342281879194629,\n",
       " -0.7947019867549643,\n",
       " 1.2016021361815676,\n",
       " 4.617414248021112,\n",
       " 7.061790668348067,\n",
       " 7.773851590105996,\n",
       " 2.0765027322404483,\n",
       " -3.2119914346895095,\n",
       " -10.287610619469035,\n",
       " -3.205918618988901,\n",
       " 6.6242038216560495,\n",
       " 1.433691756272415,\n",
       " 4.240282685512353,\n",
       " 1.4689265536723228,\n",
       " -2.0044543429844075,\n",
       " -0.454545454545463,\n",
       " -1.9406392694063745,\n",
       " 0.6984866123399325,\n",
       " -1.387283236994219,\n",
       " 1.6412661195779776,\n",
       " 2.768166089965396,\n",
       " -0.33670033670033517,\n",
       " 2.4774774774774855,\n",
       " 2.9670329670329787,\n",
       " -1.7075773745998002,\n",
       " -4.451682953311609,\n",
       " -3.409090909090906,\n",
       " -0.7058823529411673,\n",
       " 4.265402843601884,\n",
       " 2.7272727272727337,\n",
       " 0.4424778761061843,\n",
       " 2.753303964757703,\n",
       " 1.8220793140407254,\n",
       " -2.7368421052631486,\n",
       " -4.870129870129869,\n",
       " -3.526734926052344,\n",
       " -3.0660377358490476,\n",
       " 2.1897810218977964,\n",
       " 2.1428571428571352,\n",
       " 1.631701631701632,\n",
       " 3.2110091743119185,\n",
       " -1.8888888888888955,\n",
       " -4.416761041902594,\n",
       " -1.5402843601895921,\n",
       " 0.7220216606498298,\n",
       " 2.8673835125447855,\n",
       " 6.3879210220673555,\n",
       " 2.2925764192139875,\n",
       " -0.9605122732123883,\n",
       " -4.31034482758621,\n",
       " 0.22522522522523403,\n",
       " 2.696629213483148,\n",
       " 1.8599562363238453,\n",
       " -2.3630504833512256,\n",
       " -1.1001100110010986,\n",
       " -0.7786429365962189,\n",
       " -1.905829596412556,\n",
       " 1.7142857142857126,\n",
       " -1.2359550561797716,\n",
       " -1.2514220705347134,\n",
       " 5.184331797235031,\n",
       " 0.657174151150075,\n",
       " 3.373231773667018,\n",
       " 0.8421052631578885,\n",
       " -1.6701461377870541,\n",
       " -7.218683651804669,\n",
       " -3.5469107551487467,\n",
       " -5.456702253855273,\n",
       " 0.5018820577164185,\n",
       " -1.4981273408239515,\n",
       " 0.25348542458807355,\n",
       " 5.941845764854614,\n",
       " -0.7159904534606132,\n",
       " -3.725961538461553,\n",
       " 0.998751560549338,\n",
       " -0.6180469715698411,\n",
       " 0.12437810945273853,\n",
       " -1.6149068322981353,\n",
       " 0.5050505050504972,\n",
       " -1.3819095477386911,\n",
       " 4.84076433121019,\n",
       " 4.131227217496969,\n",
       " 5.484247374562434,\n",
       " 5.752212389380529,\n",
       " -0.9414225941422494,\n",
       " -4.540654699049629,\n",
       " 1.4380530973451267,\n",
       " 1.9629225736095934,\n",
       " 0.6417112299465177,\n",
       " -1.062699256110522,\n",
       " 0.9667024704618665,\n",
       " 4.361702127659561,\n",
       " 9.072375127421006,\n",
       " 0.9345794392523255,\n",
       " 6.481481481481488,\n",
       " 3.4782608695652195,\n",
       " -5.882352941176472,\n",
       " -4.46428571428571,\n",
       " 3.738317757009346,\n",
       " 0.0,\n",
       " 0.9009009009008917,\n",
       " 4.464285714285721,\n",
       " 2.564102564102555,\n",
       " 0.0,\n",
       " 1.6666666666666607,\n",
       " 1.6393442622950838,\n",
       " 1.6129032258064502,\n",
       " -3.1746031746031744,\n",
       " -0.8196721311475419,\n",
       " -0.8264462809917328,\n",
       " -4.1666666666666625,\n",
       " 1.7391304347825987,\n",
       " 3.418803418803429,\n",
       " 0.8264462809917328,\n",
       " 1.6393442622950838,\n",
       " 0.0,\n",
       " 0.8064516129032251,\n",
       " -1.6000000000000014,\n",
       " 1.6260162601626105,\n",
       " 0.0,\n",
       " 0.8000000000000007,\n",
       " -3.1746031746031744,\n",
       " -1.6393442622950838,\n",
       " 0.8333333333333304,\n",
       " 0.8264462809917328,\n",
       " 4.098360655737698,\n",
       " 2.3622047244094446,\n",
       " 0.0,\n",
       " 6.153846153846154,\n",
       " 4.347826086956519,\n",
       " 2.777777777777768,\n",
       " 0.0,\n",
       " -1.3513513513513487,\n",
       " 0.6849315068493178,\n",
       " 6.1224489795918435,\n",
       " 1.2820512820512775,\n",
       " -0.6329113924050667,\n",
       " 2.547770700636942,\n",
       " 3.7267080745341685,\n",
       " -1.7964071856287456,\n",
       " 0.0,\n",
       " -3.0487804878048808,\n",
       " 0.6289308176100628,\n",
       " 1.2499999999999956,\n",
       " -1.2345679012345734,\n",
       " -3.125,\n",
       " -3.8709677419354827,\n",
       " -0.6711409395973145,\n",
       " -6.081081081081086,\n",
       " -7.913669064748197,\n",
       " 0.78125,\n",
       " -5.426356589147286,\n",
       " 6.557377049180335,\n",
       " 1.538461538461533,\n",
       " 2.2727272727272707,\n",
       " -2.9629629629629672,\n",
       " -2.2900763358778664,\n",
       " -2.34375,\n",
       " -4.800000000000004,\n",
       " -1.6806722689075682,\n",
       " -7.692307692307687,\n",
       " -6.481481481481477,\n",
       " 2.970297029702973,\n",
       " 6.730769230769229,\n",
       " 5.405405405405395,\n",
       " 1.7094017094017033,\n",
       " 5.042016806722693,\n",
       " 2.400000000000002,\n",
       " 6.25,\n",
       " -2.941176470588236,\n",
       " -9.090909090909093,\n",
       " -5.000000000000004,\n",
       " -7.8947368421052655,\n",
       " 3.809523809523818,\n",
       " 9.174311926605494,\n",
       " -0.8403361344537785,\n",
       " 1.6949152542372836,\n",
       " 4.166666666666674,\n",
       " 0.0,\n",
       " -4.800000000000004,\n",
       " 0.8403361344537785,\n",
       " -6.666666666666665,\n",
       " -1.7857142857142905,\n",
       " 0.0,\n",
       " -1.8181818181818188,\n",
       " 1.85185185185186,\n",
       " 2.7272727272727337,\n",
       " 3.539823008849563,\n",
       " 3.418803418803429,\n",
       " 1.6528925619834656,\n",
       " 2.4390243902439046,\n",
       " -0.7936507936507908,\n",
       " -4.0000000000000036,\n",
       " -5.000000000000004,\n",
       " -1.7543859649122862,\n",
       " -0.8928571428571397,\n",
       " -7.207207207207212,\n",
       " 3.8834951456310662,\n",
       " 5.607476635514019,\n",
       " 4.424778761061954,\n",
       " 3.3898305084745672,\n",
       " -1.6393442622950838,\n",
       " -5.833333333333335,\n",
       " -4.424778761061942,\n",
       " 0.92592592592593,\n",
       " 0.0,\n",
       " -10.917431192660555,\n",
       " 6.07621009268795,\n",
       " 0.9708737864077666,\n",
       " 1.9230769230769162,\n",
       " 0.9433962264151052,\n",
       " 0.9345794392523255,\n",
       " 1.85185185185186,\n",
       " 1.8181818181818077,\n",
       " 0.8928571428571397,\n",
       " 4.424778761061954,\n",
       " 0.0,\n",
       " 2.5423728813559254,\n",
       " 0.8264462809917328,\n",
       " 0.8196721311475308,\n",
       " 0.8130081300812941,\n",
       " -0.8064516129032251,\n",
       " 4.878048780487809,\n",
       " 6.20155038759691,\n",
       " -1.4598540145985384,\n",
       " 1.4814814814814836,\n",
       " 1.4598540145985384,\n",
       " 0.0,\n",
       " 1.4388489208633004,\n",
       " -0.7092198581560294,\n",
       " 1.4285714285714235,\n",
       " -0.7042253521126751,\n",
       " 1.4184397163120588,\n",
       " 1.3986013986013957,\n",
       " 4.137931034482767,\n",
       " 1.9867549668874274,\n",
       " 1.298701298701288,\n",
       " 1.2820512820512775,\n",
       " 3.797468354430378,\n",
       " 4.268292682926833,\n",
       " 1.1695906432748648,\n",
       " 4.6242774566473965]"
      ]
     },
     "execution_count": 114,
     "metadata": {},
     "output_type": "execute_result"
    }
   ],
   "source": [
    "errors_naive"
   ]
  },
  {
   "cell_type": "markdown",
   "metadata": {},
   "source": [
    "#### Seasonal Dummy Model (Regression)"
   ]
  },
  {
   "cell_type": "code",
   "execution_count": 109,
   "metadata": {},
   "outputs": [],
   "source": [
    "import numpy as np\n",
    "import pandas as pd\n",
    "import statsmodels.api as sm\n",
    "from sklearn.model_selection import TimeSeriesSplit\n",
    "from sklearn.metrics import mean_squared_error\n",
    "\n",
    "\n",
    "\n",
    "X = pd.get_dummies(price_received_ge_500_national_pct_chg.index.month)\n",
    "X.index = price_received_ge_500_national_pct_chg.index\n",
    "X.columns = [ f'month_{i}' for i in X.columns]\n",
    "\n",
    "y = price_received_ge_500_national_pct_chg\n",
    "y = y.dropna()\n",
    "y.name = 'price_received_ge_500_national_pct_chg'\n",
    "\n",
    "df_seasonal = pd.concat([y, X], axis=1)\n",
    "df_seasonal = df_seasonal.dropna()\n",
    "df_seasonal\n",
    "\n",
    "tscv = TimeSeriesSplit(n_splits=5, test_size=int(len(df_seasonal)/10))\n",
    "\n",
    "\n"
   ]
  },
  {
   "cell_type": "code",
   "execution_count": 110,
   "metadata": {},
   "outputs": [],
   "source": [
    "errors_seasonal = []\n",
    "errors_seasonal_directional = []\n",
    "\n",
    "for train_index, test_index in tscv.split(df_seasonal):\n",
    "\n",
    "    train_data, test_data = df_seasonal.iloc[train_index], df_seasonal.iloc[test_index]\n",
    "\n",
    "    model = sm.OLS(train_data['price_received_ge_500_national_pct_chg'],\n",
    "        train_data.drop('price_received_ge_500_national_pct_chg', axis=1)\n",
    "    ).fit()\n",
    "\n",
    "    y_pred = model.predict(test_data.drop('price_received_ge_500_national_pct_chg', axis=1))\n",
    "\n",
    "    errors_seasonal.extend(test_data['price_received_ge_500_national_pct_chg'] - y_pred)\n",
    "    \n",
    "    errors_seasonal_directional.extend(\n",
    "        [1 if i > 0 else 0 for i in test_data['price_received_ge_500_national_pct_chg']*y_pred]\n",
    "    )\n",
    "        \n",
    "        \n"
   ]
  },
  {
   "cell_type": "code",
   "execution_count": 105,
   "metadata": {},
   "outputs": [
    {
     "data": {
      "text/plain": [
       "140"
      ]
     },
     "execution_count": 105,
     "metadata": {},
     "output_type": "execute_result"
    }
   ],
   "source": [
    "len(errors_seasonal)"
   ]
  },
  {
   "cell_type": "code",
   "execution_count": 92,
   "metadata": {},
   "outputs": [
    {
     "data": {
      "text/plain": [
       "<AxesSubplot:>"
      ]
     },
     "execution_count": 92,
     "metadata": {},
     "output_type": "execute_result"
    },
    {
     "data": {
      "image/png": "[encoded data removed]",
      "text/plain": [
       "<Figure size 1152x576 with 1 Axes>"
      ]
     },
     "metadata": {},
     "output_type": "display_data"
    }
   ],
   "source": [
    "pd.Series(errors_naive).hist()"
   ]
  },
  {
   "cell_type": "code",
   "execution_count": 115,
   "metadata": {},
   "outputs": [
    {
     "name": "stdout",
     "output_type": "stream",
     "text": [
      "Mean absolute error of AR(1) model: 2.67 %\n"
     ]
    }
   ],
   "source": [
    "print(f'Mean absolute error of  model: {round(np.mean(abs(pd.Series(errors_naive))),2)} %')"
   ]
  },
  {
   "cell_type": "code",
   "execution_count": 107,
   "metadata": {},
   "outputs": [
    {
     "data": {
      "text/plain": [
       "<AxesSubplot:>"
      ]
     },
     "execution_count": 107,
     "metadata": {},
     "output_type": "execute_result"
    },
    {
     "data": {
      "image/png": "[encoded data removed]",
      "text/plain": [
       "<Figure size 1152x576 with 1 Axes>"
      ]
     },
     "metadata": {},
     "output_type": "display_data"
    }
   ],
   "source": [
    "pd.Series(errors_seasonal).hist()"
   ]
  },
  {
   "cell_type": "code",
   "execution_count": 108,
   "metadata": {},
   "outputs": [
    {
     "data": {
      "text/plain": [
       "2.5986839848451706"
      ]
     },
     "execution_count": 108,
     "metadata": {},
     "output_type": "execute_result"
    }
   ],
   "source": [
    "np.mean(abs(pd.Series(errors_seasonal)))"
   ]
  },
  {
   "cell_type": "code",
   "execution_count": 111,
   "metadata": {},
   "outputs": [
    {
     "data": {
      "text/plain": [
       "0.5673758865248227"
      ]
     },
     "execution_count": 111,
     "metadata": {},
     "output_type": "execute_result"
    }
   ],
   "source": [
    "import numpy as np\n",
    "\n",
    "np.mean([1 if i > 0 else 0 for i in price_received_ge_500_national_pct_chg])"
   ]
  },
  {
   "cell_type": "code",
   "execution_count": 112,
   "metadata": {},
   "outputs": [
    {
     "data": {
      "text/plain": [
       "0.55"
      ]
     },
     "execution_count": 112,
     "metadata": {},
     "output_type": "execute_result"
    }
   ],
   "source": [
    "np.mean(errors_seasonal_directional)"
   ]
  },
  {
   "cell_type": "code",
   "execution_count": null,
   "metadata": {},
   "outputs": [],
   "source": [
    "import numpy as np\n",
    "\n",
    "print(f'Correct directional forecast: {np.mean([1 if i > 0 else 0 for i in errors_seasonal])*100:.2f}%')"
   ]
  },
  {
   "cell_type": "code",
   "execution_count": 49,
   "metadata": {},
   "outputs": [
    {
     "name": "stdout",
     "output_type": "stream",
     "text": [
      "                                      OLS Regression Results                                      \n",
      "==================================================================================================\n",
      "Dep. Variable:     price_received_ge_500_national_pct_chg   R-squared:                       0.110\n",
      "Model:                                                OLS   Adj. R-squared:                  0.074\n",
      "Method:                                     Least Squares   F-statistic:                     3.030\n",
      "Date:                                    Sun, 10 Sep 2023   Prob (F-statistic):           0.000779\n",
      "Time:                                            12:46:27   Log-Likelihood:                -724.02\n",
      "No. Observations:                                     281   AIC:                             1472.\n",
      "Df Residuals:                                         269   BIC:                             1516.\n",
      "Df Model:                                              11                                         \n",
      "Covariance Type:                                nonrobust                                         \n",
      "==============================================================================\n",
      "                 coef    std err          t      P>|t|      [0.025      0.975]\n",
      "------------------------------------------------------------------------------\n",
      "month_1        2.1714      0.678      3.202      0.002       0.836       3.507\n",
      "month_2        0.8761      0.664      1.319      0.188      -0.431       2.183\n",
      "month_3        1.7481      0.664      2.633      0.009       0.441       3.055\n",
      "month_4        0.5240      0.664      0.789      0.431      -0.783       1.831\n",
      "month_5       -0.3791      0.664     -0.571      0.568      -1.686       0.928\n",
      "month_6       -1.5849      0.664     -2.387      0.018      -2.892      -0.278\n",
      "month_7       -1.1189      0.678     -1.650      0.100      -2.454       0.216\n",
      "month_8        0.3780      0.678      0.557      0.578      -0.957       1.713\n",
      "month_9       -0.5739      0.678     -0.846      0.398      -1.909       0.761\n",
      "month_10       0.2388      0.678      0.352      0.725      -1.096       1.574\n",
      "month_11       1.7123      0.678      2.525      0.012       0.377       3.048\n",
      "month_12       0.9456      0.678      1.394      0.164      -0.390       2.281\n",
      "==============================================================================\n",
      "Omnibus:                       13.084   Durbin-Watson:                   1.327\n",
      "Prob(Omnibus):                  0.001   Jarque-Bera (JB):               15.302\n",
      "Skew:                          -0.418   Prob(JB):                     0.000475\n",
      "Kurtosis:                       3.781   Cond. No.                         1.02\n",
      "==============================================================================\n",
      "\n",
      "Notes:\n",
      "[1] Standard Errors assume that the covariance matrix of the errors is correctly specified.\n"
     ]
    }
   ],
   "source": [
    "X = pd.get_dummies(df.month)\n",
    "X.columns = [ f'month_{i}' for i in X.columns]\n",
    "# X = sm.add_constant(X)\n",
    "\n",
    "y = price_received_ge_500_national_pct_chg\n",
    "y = y.dropna()\n",
    "y.name = 'price_received_ge_500_national_pct_chg'\n",
    "\n",
    "model = sm.OLS(y, X.loc[y.index, :]).fit()\n",
    "\n",
    "print(model.summary())"
   ]
  }
 ],
 "metadata": {
  "kernelspec": {
   "display_name": "base",
   "language": "python",
   "name": "python3"
  },
  "language_info": {
   "codemirror_mode": {
    "name": "ipython",
    "version": 3
   },
   "file_extension": ".py",
   "mimetype": "text/x-python",
   "name": "python",
   "nbconvert_exporter": "python",
   "pygments_lexer": "ipython3",
   "version": "3.8.5"
  },
  "orig_nbformat": 4
 },
 "nbformat": 4,
 "nbformat_minor": 2
}
