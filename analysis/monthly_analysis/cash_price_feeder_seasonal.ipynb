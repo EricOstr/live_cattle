{
 "cells": [
  {
   "cell_type": "markdown",
   "metadata": {},
   "source": [
    "## Seasonal Cash Price Feeder Cattle"
   ]
  },
  {
   "cell_type": "code",
   "execution_count": 2,
   "metadata": {},
   "outputs": [
    {
     "name": "stderr",
     "output_type": "stream",
     "text": [
      "/Users/ericostring/opt/anaconda3/lib/python3.8/site-packages/statsmodels/tsa/base/tsa_model.py:7: FutureWarning: pandas.Int64Index is deprecated and will be removed from pandas in a future version. Use pandas.Index with the appropriate dtype instead.\n",
      "  from pandas import (to_datetime, Int64Index, DatetimeIndex, Period,\n",
      "/Users/ericostring/opt/anaconda3/lib/python3.8/site-packages/statsmodels/tsa/base/tsa_model.py:7: FutureWarning: pandas.Float64Index is deprecated and will be removed from pandas in a future version. Use pandas.Index with the appropriate dtype instead.\n",
      "  from pandas import (to_datetime, Int64Index, DatetimeIndex, Period,\n"
     ]
    }
   ],
   "source": [
    "import pandas as pd\n",
    "import seaborn as sns\n",
    "import matplotlib.pyplot as plt\n",
    "import numpy as np\n",
    "\n",
    "import sys\n",
    "sys.path.append('../')\n",
    "import src\n",
    "\n",
    "import warnings\n",
    "warnings.filterwarnings('ignore')"
   ]
  },
  {
   "cell_type": "code",
   "execution_count": 3,
   "metadata": {},
   "outputs": [],
   "source": [
    "cash_price_feeder = pd.read_csv('../csv/cash_price_feeder.csv')\n",
    "\n",
    "cash_price_feeder = src.usda_clean_monthly(cash_price_feeder, historical=True)\n",
    "\n",
    "cash_price_feeder_pct_chg = cash_price_feeder.pct_change()*100\n",
    "cash_price_feeder_pct_chg.name = 'cash_price_feeder_pct_chg'\n",
    "cash_price_feeder_pct_chg = cash_price_feeder_pct_chg.dropna()\n",
    "\n",
    "cash_price_feeder_adj = src.adjust_series_cpi(cash_price_feeder)\n",
    "cash_price_feeder_adj.name = 'cash_price_feeder_adj'"
   ]
  },
  {
   "cell_type": "code",
   "execution_count": 4,
   "metadata": {},
   "outputs": [
    {
     "data": {
      "application/vnd.plotly.v1+json": {
       "config": {
        "plotlyServerURL": "https://plot.ly"
       },
       "data": [
        {
         "name": "Price Received",
         "type": "box",
         "x": [
          1,
          2,
          3,
          4,
          5,
          6,
          7,
          8,
          9,
          10,
          11,
          12,
          1,
          2,
          3,
          4,
          5,
          6,
          7,
          8,
          9,
          10,
          11,
          12,
          1,
          2,
          3,
          4,
          5,
          6,
          7,
          8,
          9,
          10,
          11,
          12,
          1,
          2,
          3,
          4,
          5,
          6,
          7,
          8,
          9,
          10,
          11,
          12,
          1,
          2,
          3,
          4,
          5,
          6,
          7,
          8,
          9,
          10,
          11,
          12,
          1,
          2,
          3,
          4,
          5,
          6,
          7,
          8,
          9,
          10,
          11,
          12,
          1,
          2,
          3,
          4,
          5,
          6,
          7,
          8,
          9,
          10,
          11,
          12,
          1,
          2,
          3,
          4,
          5,
          6,
          7,
          8,
          9,
          10,
          11,
          12,
          1,
          2,
          3,
          4,
          5,
          6,
          7,
          8,
          9,
          10,
          11,
          12,
          1,
          2,
          3,
          4,
          5,
          6,
          7,
          8,
          9,
          10,
          11,
          12,
          1,
          2,
          3,
          4,
          5,
          6,
          7,
          8,
          9,
          10,
          11,
          12,
          1,
          2,
          3,
          4,
          5,
          6,
          7,
          8,
          9,
          10,
          11,
          12,
          1,
          2,
          3,
          4,
          5,
          6,
          7,
          8,
          9,
          10,
          11,
          12,
          1,
          2,
          3,
          4,
          5,
          6,
          7,
          8,
          9,
          10,
          11,
          12,
          1,
          2,
          3,
          4,
          5,
          6,
          7,
          8,
          9,
          10,
          11,
          12,
          1,
          2,
          3,
          4,
          5,
          6,
          7,
          8,
          9,
          10,
          11,
          12,
          1,
          2,
          3,
          4,
          5,
          6,
          7,
          8,
          9,
          10,
          11,
          12,
          1,
          2,
          3,
          4,
          5,
          6,
          7,
          8,
          9,
          10,
          11,
          12,
          1,
          2,
          3,
          4,
          5,
          6,
          7,
          8,
          9,
          10,
          11,
          12,
          1,
          2,
          3,
          4,
          5,
          6,
          7,
          8,
          9,
          10,
          11,
          12,
          1,
          2,
          3,
          4,
          5,
          6,
          7,
          8,
          9,
          10,
          11,
          12,
          1,
          2,
          3,
          4,
          5,
          6,
          7,
          8,
          9,
          10,
          11,
          12,
          1,
          2,
          3,
          4,
          5,
          6,
          7,
          8,
          9,
          10,
          11,
          12,
          1,
          2,
          3,
          4,
          5,
          6,
          7,
          8,
          9,
          10,
          11,
          12,
          1,
          2,
          3,
          4,
          5,
          6,
          7
         ],
         "y": [
          75.5,
          76.70662613981764,
          73.98478787878788,
          73.54945848375452,
          70.08947051744886,
          74.73574007220216,
          77.36982603479305,
          75.90640335128666,
          78.48040500297797,
          83.32217598097503,
          86.20136660724896,
          89.71580510992275,
          89.7420616113744,
          86.11719670200235,
          83.20566588785047,
          86.51406888499707,
          81.91049562682217,
          85.58085846867749,
          88.99583333333334,
          85.76307870370371,
          83.42694300518136,
          88.75977011494254,
          90.02998276852385,
          91.49810344827587,
          86.51319246145061,
          83.08458475540388,
          83.54869466515323,
          85.35426794799322,
          83.30574001125493,
          87.22668539325844,
          87.3798309859155,
          86.45419718309861,
          85.51340437464947,
          86.35689364096794,
          80.29768883878242,
          81.8245614035088,
          80.43370976849239,
          80.39426321709786,
          77.09602908277405,
          73.46896551724139,
          71.36724137931034,
          70.68827126181213,
          72.25186007773459,
          74.19413392363033,
          75.61430939226518,
          76.75791505791506,
          78.5703805846663,
          81.01470425649532,
          75.95597138139792,
          72.95243036592026,
          69.57328990228014,
          74.73057671381936,
          75.2108991825613,
          76.91780076211215,
          80.85454051114736,
          83.30704225352113,
          91.46506479481641,
          97.69189189189188,
          95.19604336043362,
          91.82257189365164,
          84.54530237580994,
          80.20875402792697,
          84.2541622198506,
          88.26755319148937,
          93.05409836065573,
          100.5547179757512,
          102.18870116156283,
          103.34860158311346,
          103.21743022643496,
          104.57019381875327,
          99.61225130890053,
          94.71208617971624,
          93.47954902988988,
          92.68644421272158,
          95.45209518882565,
          98.69820143884894,
          98.37716049382718,
          97.90421593830335,
          93.83766632548618,
          94.78202647657841,
          96.6956740442656,
          99.63574297188757,
          100.1099190283401,
          99.34806910569105,
          97.51946545637922,
          94.51177654755915,
          89.7975975975976,
          87.73538461538462,
          87.220987654321,
          91.25978314440611,
          92.20176904176905,
          93.55188818048062,
          95.95638245441104,
          91.2687314172448,
          83.16923076923078,
          82.63850346878097,
          79.0653162055336,
          80.09120393120395,
          84.3097370983447,
          86.72051282051284,
          85.35064935064935,
          83.96329174664108,
          88.34181469035046,
          89.53915343915344,
          89.4390887290168,
          87.2229296314026,
          84.49490960989534,
          81.68057142857144,
          77.05210800568452,
          80.63660840812473,
          77.49419203747073,
          76.48975791433892,
          79.72266851338874,
          78.17015539305301,
          78.1299667218272,
          80.09293154286445,
          77.35015974732956,
          73.13247727094328,
          72.24017888666589,
          78.54400936126491,
          73.61257536361613,
          72.00944423237335,
          71.52579345490788,
          75.97064340649034,
          75.9822964985785,
          72.97380999847005,
          74.61558107461772,
          73.53512421583254,
          71.20688617347861,
          70.45434990771453,
          71.46780381824064,
          71.44172929719518,
          73.77641482876223,
          76.9418338016342,
          79.7224660089785,
          85.46261851574936,
          83.6643932935493,
          82.46470763654716,
          84.25602377861668,
          84.06459562461065,
          81.1575313932036,
          82.70928302645957,
          85.30266952464089,
          89.65402707376164,
          94.22762381767572,
          95.84395573609748,
          97.93284914551141,
          98.40204352040408,
          92.85156042555452,
          92.29601013636244,
          96.14141163764485,
          93.04857754530008,
          92.25577264653641,
          99.63029047659008,
          104.94342041285418,
          106.44058633769365,
          111.85056583794757,
          115.90192521402248,
          114.16884634163355,
          110.18314970554361,
          109.88364554097862,
          108.04029144406002,
          95.37982750192052,
          98.346507277139,
          102.66664361925092,
          105.8318238607625,
          105.26515826097534,
          106.83747022007746,
          106.8078426263679,
          102.18946788074052,
          97.19387557835316,
          96.87108385548594,
          93.80712185279788,
          94.98980745511855,
          100.57920512337542,
          106.78091475433669,
          109.46363213167685,
          117.4847781593348,
          119.84004736794685,
          120.5553338568284,
          123.62044494604902,
          123.16499205642705,
          125.85349544844748,
          130.29121954511712,
          134.672131147541,
          146.8299887137445,
          155.1626442812172,
          156.8038107730858,
          164.2786023669186,
          177.840064354997,
          179.50125131801263,
          174.22746708004703,
          162.3969329117228,
          153.29496169937204,
          157.95467539672794,
          161.80076838870835,
          160.9802148819411,
          163.8607430501429,
          156.27686944279168,
          150.98314842478055,
          136.02765344932655,
          137.47046308832063,
          128.76175548589342,
          111.83722650882571,
          113.73313748332744,
          112.25375457064413,
          112.46241580300003,
          106.43815749328141,
          100.53489069082072,
          96.79220703789444,
          94.2185026200202,
          96.86655345791833,
          87.788906009245,
          82.24209755552705,
          86.45469499032538,
          89.14849729944665,
          91.33829409608836,
          89.02846024063743,
          90.9778877034959,
          95.4123112659698,
          100.0302370338287,
          100.61031618052296,
          100.00857892199718,
          95.69483420835047,
          99.18482774826899,
          104.57628424206305,
          105.23981529904447,
          102.6358488423034,
          100.75403341308042,
          100.9590708097883,
          97.43943194659272,
          93.77479584587263,
          92.73335771181456,
          93.88981265055222,
          95.18741617263082,
          96.43777811268076,
          98.27839596892716,
          100.70387725646046,
          97.78287401106184,
          95.48029120378294,
          95.2985952199339,
          94.24747602620502,
          93.71877483261345,
          95.79687573371734,
          90.46085000702874,
          85.31132999925825,
          87.73049175471897,
          86.45413512733964,
          85.7465561090361,
          89.38161074972993,
          91.34591459052595,
          91.42909399394493,
          94.2602075427083,
          92.09712461051966,
          86.56916490711505,
          80.74371365386192,
          83.30538156119098,
          84.12665779663844,
          85.6056132550627,
          87.86501896752053,
          87.11157215306595,
          87.07544126457442,
          89.65411233951636,
          89.56978431628494,
          87.30608375194012,
          88.08010219988289,
          86.84030701042371,
          88.5933182053068,
          83.61633759913818,
          85.87023732406807,
          89.67190836730732,
          91.28878848691545,
          89.84360759724399,
          92.07343748305249,
          91.6232532703959,
          94.87844420054375,
          95.25552378106904,
          96.13063767993346,
          91.43524959652736,
          90.92764320723327,
          89.37412759668283,
          89.82656735659494,
          92.6099312802927,
          96.5259934294715,
          96.31883237648582,
          96.48101418734817,
          98.2341935635566,
          99.64386432477417,
          100.50105291305947,
          103.21998404467493,
          108.18991372798473,
          114.1206462225123,
          116.53243579162653,
          122.96719500244177,
          126.84311935909139
         ]
        }
       ],
       "layout": {
        "template": {
         "data": {
          "bar": [
           {
            "error_x": {
             "color": "#2a3f5f"
            },
            "error_y": {
             "color": "#2a3f5f"
            },
            "marker": {
             "line": {
              "color": "#E5ECF6",
              "width": 0.5
             },
             "pattern": {
              "fillmode": "overlay",
              "size": 10,
              "solidity": 0.2
             }
            },
            "type": "bar"
           }
          ],
          "barpolar": [
           {
            "marker": {
             "line": {
              "color": "#E5ECF6",
              "width": 0.5
             },
             "pattern": {
              "fillmode": "overlay",
              "size": 10,
              "solidity": 0.2
             }
            },
            "type": "barpolar"
           }
          ],
          "carpet": [
           {
            "aaxis": {
             "endlinecolor": "#2a3f5f",
             "gridcolor": "white",
             "linecolor": "white",
             "minorgridcolor": "white",
             "startlinecolor": "#2a3f5f"
            },
            "baxis": {
             "endlinecolor": "#2a3f5f",
             "gridcolor": "white",
             "linecolor": "white",
             "minorgridcolor": "white",
             "startlinecolor": "#2a3f5f"
            },
            "type": "carpet"
           }
          ],
          "choropleth": [
           {
            "colorbar": {
             "outlinewidth": 0,
             "ticks": ""
            },
            "type": "choropleth"
           }
          ],
          "contour": [
           {
            "colorbar": {
             "outlinewidth": 0,
             "ticks": ""
            },
            "colorscale": [
             [
              0,
              "#0d0887"
             ],
             [
              0.1111111111111111,
              "#46039f"
             ],
             [
              0.2222222222222222,
              "#7201a8"
             ],
             [
              0.3333333333333333,
              "#9c179e"
             ],
             [
              0.4444444444444444,
              "#bd3786"
             ],
             [
              0.5555555555555556,
              "#d8576b"
             ],
             [
              0.6666666666666666,
              "#ed7953"
             ],
             [
              0.7777777777777778,
              "#fb9f3a"
             ],
             [
              0.8888888888888888,
              "#fdca26"
             ],
             [
              1,
              "#f0f921"
             ]
            ],
            "type": "contour"
           }
          ],
          "contourcarpet": [
           {
            "colorbar": {
             "outlinewidth": 0,
             "ticks": ""
            },
            "type": "contourcarpet"
           }
          ],
          "heatmap": [
           {
            "colorbar": {
             "outlinewidth": 0,
             "ticks": ""
            },
            "colorscale": [
             [
              0,
              "#0d0887"
             ],
             [
              0.1111111111111111,
              "#46039f"
             ],
             [
              0.2222222222222222,
              "#7201a8"
             ],
             [
              0.3333333333333333,
              "#9c179e"
             ],
             [
              0.4444444444444444,
              "#bd3786"
             ],
             [
              0.5555555555555556,
              "#d8576b"
             ],
             [
              0.6666666666666666,
              "#ed7953"
             ],
             [
              0.7777777777777778,
              "#fb9f3a"
             ],
             [
              0.8888888888888888,
              "#fdca26"
             ],
             [
              1,
              "#f0f921"
             ]
            ],
            "type": "heatmap"
           }
          ],
          "heatmapgl": [
           {
            "colorbar": {
             "outlinewidth": 0,
             "ticks": ""
            },
            "colorscale": [
             [
              0,
              "#0d0887"
             ],
             [
              0.1111111111111111,
              "#46039f"
             ],
             [
              0.2222222222222222,
              "#7201a8"
             ],
             [
              0.3333333333333333,
              "#9c179e"
             ],
             [
              0.4444444444444444,
              "#bd3786"
             ],
             [
              0.5555555555555556,
              "#d8576b"
             ],
             [
              0.6666666666666666,
              "#ed7953"
             ],
             [
              0.7777777777777778,
              "#fb9f3a"
             ],
             [
              0.8888888888888888,
              "#fdca26"
             ],
             [
              1,
              "#f0f921"
             ]
            ],
            "type": "heatmapgl"
           }
          ],
          "histogram": [
           {
            "marker": {
             "pattern": {
              "fillmode": "overlay",
              "size": 10,
              "solidity": 0.2
             }
            },
            "type": "histogram"
           }
          ],
          "histogram2d": [
           {
            "colorbar": {
             "outlinewidth": 0,
             "ticks": ""
            },
            "colorscale": [
             [
              0,
              "#0d0887"
             ],
             [
              0.1111111111111111,
              "#46039f"
             ],
             [
              0.2222222222222222,
              "#7201a8"
             ],
             [
              0.3333333333333333,
              "#9c179e"
             ],
             [
              0.4444444444444444,
              "#bd3786"
             ],
             [
              0.5555555555555556,
              "#d8576b"
             ],
             [
              0.6666666666666666,
              "#ed7953"
             ],
             [
              0.7777777777777778,
              "#fb9f3a"
             ],
             [
              0.8888888888888888,
              "#fdca26"
             ],
             [
              1,
              "#f0f921"
             ]
            ],
            "type": "histogram2d"
           }
          ],
          "histogram2dcontour": [
           {
            "colorbar": {
             "outlinewidth": 0,
             "ticks": ""
            },
            "colorscale": [
             [
              0,
              "#0d0887"
             ],
             [
              0.1111111111111111,
              "#46039f"
             ],
             [
              0.2222222222222222,
              "#7201a8"
             ],
             [
              0.3333333333333333,
              "#9c179e"
             ],
             [
              0.4444444444444444,
              "#bd3786"
             ],
             [
              0.5555555555555556,
              "#d8576b"
             ],
             [
              0.6666666666666666,
              "#ed7953"
             ],
             [
              0.7777777777777778,
              "#fb9f3a"
             ],
             [
              0.8888888888888888,
              "#fdca26"
             ],
             [
              1,
              "#f0f921"
             ]
            ],
            "type": "histogram2dcontour"
           }
          ],
          "mesh3d": [
           {
            "colorbar": {
             "outlinewidth": 0,
             "ticks": ""
            },
            "type": "mesh3d"
           }
          ],
          "parcoords": [
           {
            "line": {
             "colorbar": {
              "outlinewidth": 0,
              "ticks": ""
             }
            },
            "type": "parcoords"
           }
          ],
          "pie": [
           {
            "automargin": true,
            "type": "pie"
           }
          ],
          "scatter": [
           {
            "fillpattern": {
             "fillmode": "overlay",
             "size": 10,
             "solidity": 0.2
            },
            "type": "scatter"
           }
          ],
          "scatter3d": [
           {
            "line": {
             "colorbar": {
              "outlinewidth": 0,
              "ticks": ""
             }
            },
            "marker": {
             "colorbar": {
              "outlinewidth": 0,
              "ticks": ""
             }
            },
            "type": "scatter3d"
           }
          ],
          "scattercarpet": [
           {
            "marker": {
             "colorbar": {
              "outlinewidth": 0,
              "ticks": ""
             }
            },
            "type": "scattercarpet"
           }
          ],
          "scattergeo": [
           {
            "marker": {
             "colorbar": {
              "outlinewidth": 0,
              "ticks": ""
             }
            },
            "type": "scattergeo"
           }
          ],
          "scattergl": [
           {
            "marker": {
             "colorbar": {
              "outlinewidth": 0,
              "ticks": ""
             }
            },
            "type": "scattergl"
           }
          ],
          "scattermapbox": [
           {
            "marker": {
             "colorbar": {
              "outlinewidth": 0,
              "ticks": ""
             }
            },
            "type": "scattermapbox"
           }
          ],
          "scatterpolar": [
           {
            "marker": {
             "colorbar": {
              "outlinewidth": 0,
              "ticks": ""
             }
            },
            "type": "scatterpolar"
           }
          ],
          "scatterpolargl": [
           {
            "marker": {
             "colorbar": {
              "outlinewidth": 0,
              "ticks": ""
             }
            },
            "type": "scatterpolargl"
           }
          ],
          "scatterternary": [
           {
            "marker": {
             "colorbar": {
              "outlinewidth": 0,
              "ticks": ""
             }
            },
            "type": "scatterternary"
           }
          ],
          "surface": [
           {
            "colorbar": {
             "outlinewidth": 0,
             "ticks": ""
            },
            "colorscale": [
             [
              0,
              "#0d0887"
             ],
             [
              0.1111111111111111,
              "#46039f"
             ],
             [
              0.2222222222222222,
              "#7201a8"
             ],
             [
              0.3333333333333333,
              "#9c179e"
             ],
             [
              0.4444444444444444,
              "#bd3786"
             ],
             [
              0.5555555555555556,
              "#d8576b"
             ],
             [
              0.6666666666666666,
              "#ed7953"
             ],
             [
              0.7777777777777778,
              "#fb9f3a"
             ],
             [
              0.8888888888888888,
              "#fdca26"
             ],
             [
              1,
              "#f0f921"
             ]
            ],
            "type": "surface"
           }
          ],
          "table": [
           {
            "cells": {
             "fill": {
              "color": "#EBF0F8"
             },
             "line": {
              "color": "white"
             }
            },
            "header": {
             "fill": {
              "color": "#C8D4E3"
             },
             "line": {
              "color": "white"
             }
            },
            "type": "table"
           }
          ]
         },
         "layout": {
          "annotationdefaults": {
           "arrowcolor": "#2a3f5f",
           "arrowhead": 0,
           "arrowwidth": 1
          },
          "autotypenumbers": "strict",
          "coloraxis": {
           "colorbar": {
            "outlinewidth": 0,
            "ticks": ""
           }
          },
          "colorscale": {
           "diverging": [
            [
             0,
             "#8e0152"
            ],
            [
             0.1,
             "#c51b7d"
            ],
            [
             0.2,
             "#de77ae"
            ],
            [
             0.3,
             "#f1b6da"
            ],
            [
             0.4,
             "#fde0ef"
            ],
            [
             0.5,
             "#f7f7f7"
            ],
            [
             0.6,
             "#e6f5d0"
            ],
            [
             0.7,
             "#b8e186"
            ],
            [
             0.8,
             "#7fbc41"
            ],
            [
             0.9,
             "#4d9221"
            ],
            [
             1,
             "#276419"
            ]
           ],
           "sequential": [
            [
             0,
             "#0d0887"
            ],
            [
             0.1111111111111111,
             "#46039f"
            ],
            [
             0.2222222222222222,
             "#7201a8"
            ],
            [
             0.3333333333333333,
             "#9c179e"
            ],
            [
             0.4444444444444444,
             "#bd3786"
            ],
            [
             0.5555555555555556,
             "#d8576b"
            ],
            [
             0.6666666666666666,
             "#ed7953"
            ],
            [
             0.7777777777777778,
             "#fb9f3a"
            ],
            [
             0.8888888888888888,
             "#fdca26"
            ],
            [
             1,
             "#f0f921"
            ]
           ],
           "sequentialminus": [
            [
             0,
             "#0d0887"
            ],
            [
             0.1111111111111111,
             "#46039f"
            ],
            [
             0.2222222222222222,
             "#7201a8"
            ],
            [
             0.3333333333333333,
             "#9c179e"
            ],
            [
             0.4444444444444444,
             "#bd3786"
            ],
            [
             0.5555555555555556,
             "#d8576b"
            ],
            [
             0.6666666666666666,
             "#ed7953"
            ],
            [
             0.7777777777777778,
             "#fb9f3a"
            ],
            [
             0.8888888888888888,
             "#fdca26"
            ],
            [
             1,
             "#f0f921"
            ]
           ]
          },
          "colorway": [
           "#636efa",
           "#EF553B",
           "#00cc96",
           "#ab63fa",
           "#FFA15A",
           "#19d3f3",
           "#FF6692",
           "#B6E880",
           "#FF97FF",
           "#FECB52"
          ],
          "font": {
           "color": "#2a3f5f"
          },
          "geo": {
           "bgcolor": "white",
           "lakecolor": "white",
           "landcolor": "#E5ECF6",
           "showlakes": true,
           "showland": true,
           "subunitcolor": "white"
          },
          "hoverlabel": {
           "align": "left"
          },
          "hovermode": "closest",
          "mapbox": {
           "style": "light"
          },
          "paper_bgcolor": "white",
          "plot_bgcolor": "#E5ECF6",
          "polar": {
           "angularaxis": {
            "gridcolor": "white",
            "linecolor": "white",
            "ticks": ""
           },
           "bgcolor": "#E5ECF6",
           "radialaxis": {
            "gridcolor": "white",
            "linecolor": "white",
            "ticks": ""
           }
          },
          "scene": {
           "xaxis": {
            "backgroundcolor": "#E5ECF6",
            "gridcolor": "white",
            "gridwidth": 2,
            "linecolor": "white",
            "showbackground": true,
            "ticks": "",
            "zerolinecolor": "white"
           },
           "yaxis": {
            "backgroundcolor": "#E5ECF6",
            "gridcolor": "white",
            "gridwidth": 2,
            "linecolor": "white",
            "showbackground": true,
            "ticks": "",
            "zerolinecolor": "white"
           },
           "zaxis": {
            "backgroundcolor": "#E5ECF6",
            "gridcolor": "white",
            "gridwidth": 2,
            "linecolor": "white",
            "showbackground": true,
            "ticks": "",
            "zerolinecolor": "white"
           }
          },
          "shapedefaults": {
           "line": {
            "color": "#2a3f5f"
           }
          },
          "ternary": {
           "aaxis": {
            "gridcolor": "white",
            "linecolor": "white",
            "ticks": ""
           },
           "baxis": {
            "gridcolor": "white",
            "linecolor": "white",
            "ticks": ""
           },
           "bgcolor": "#E5ECF6",
           "caxis": {
            "gridcolor": "white",
            "linecolor": "white",
            "ticks": ""
           }
          },
          "title": {
           "x": 0.05
          },
          "xaxis": {
           "automargin": true,
           "gridcolor": "white",
           "linecolor": "white",
           "ticks": "",
           "title": {
            "standoff": 15
           },
           "zerolinecolor": "white",
           "zerolinewidth": 2
          },
          "yaxis": {
           "automargin": true,
           "gridcolor": "white",
           "linecolor": "white",
           "ticks": "",
           "title": {
            "standoff": 15
           },
           "zerolinecolor": "white",
           "zerolinewidth": 2
          }
         }
        },
        "title": {
         "text": "Price Received for Feeder Cattle by Month (Adj. CPI)"
        },
        "xaxis": {
         "anchor": "y",
         "domain": [
          0,
          1
         ],
         "title": {
          "text": "Month"
         }
        },
        "yaxis": {
         "anchor": "x",
         "domain": [
          0,
          1
         ],
         "title": {
          "text": "Adjusted Price Received"
         }
        }
       }
      }
     },
     "metadata": {},
     "output_type": "display_data"
    }
   ],
   "source": [
    "df_adj = pd.DataFrame({\n",
    "    'cash_price_feeder_adj':cash_price_feeder_adj,\n",
    "    'month' : cash_price_feeder_adj.index.month,\n",
    "    'quarter' : cash_price_feeder_adj.index.quarter,\n",
    "})\n",
    "\n",
    "import plotly.subplots as sp\n",
    "\n",
    "fig = sp.make_subplots(rows=1, cols=1)\n",
    "\n",
    "fig.add_box(y=df_adj['cash_price_feeder_adj'], x=df_adj['month'], name='Price Received')\n",
    "\n",
    "fig.update_layout(title='Price Received for Feeder Cattle by Month (Adj. CPI)',\n",
    "                  xaxis_title='Month',\n",
    "                  yaxis_title='Adjusted Price Received')\n",
    "\n",
    "fig.show()"
   ]
  },
  {
   "cell_type": "code",
   "execution_count": 5,
   "metadata": {},
   "outputs": [
    {
     "data": {
      "text/plain": [
       "Text(0.5, 1.0, 'Mean Price Received Feeder Cattle by Month $/cwt (Adj. CPI)')"
      ]
     },
     "execution_count": 5,
     "metadata": {},
     "output_type": "execute_result"
    },
    {
     "data": {
      "image/png": "[encoded data removed]",
      "text/plain": [
       "<Figure size 1152x576 with 1 Axes>"
      ]
     },
     "metadata": {},
     "output_type": "display_data"
    }
   ],
   "source": [
    "df_adj.groupby('month')['cash_price_feeder_adj'].mean().plot()\n",
    "plt.title('Mean Price Received Feeder Cattle by Month $/cwt (Adj. CPI)')"
   ]
  },
  {
   "cell_type": "code",
   "execution_count": 6,
   "metadata": {},
   "outputs": [
    {
     "data": {
      "text/plain": [
       "Text(0.5, 1.0, 'Mean Price Received for GE 500 National Futures by Month $/cwt (Adj. CPI)')"
      ]
     },
     "execution_count": 6,
     "metadata": {},
     "output_type": "execute_result"
    },
    {
     "data": {
      "image/png": "[encoded data removed]",
      "text/plain": [
       "<Figure size 1152x576 with 1 Axes>"
      ]
     },
     "metadata": {},
     "output_type": "display_data"
    }
   ],
   "source": [
    "df_adj.groupby('month')['cash_price_feeder_adj'].mean().plot()\n",
    "plt.title('Mean Price Received for GE 500 National Futures by Month $/cwt (Adj. CPI)')"
   ]
  },
  {
   "cell_type": "markdown",
   "metadata": {},
   "source": [
    "- Cash price is higher throughout the first half of the year (max in May) and lower during second half of the year (min in October)\n",
    "- Price variance also higher during first half of the year"
   ]
  }
 ],
 "metadata": {
  "kernelspec": {
   "display_name": "base",
   "language": "python",
   "name": "python3"
  },
  "language_info": {
   "codemirror_mode": {
    "name": "ipython",
    "version": 3
   },
   "file_extension": ".py",
   "mimetype": "text/x-python",
   "name": "python",
   "nbconvert_exporter": "python",
   "pygments_lexer": "ipython3",
   "version": "3.8.5"
  },
  "orig_nbformat": 4
 },
 "nbformat": 4,
 "nbformat_minor": 2
}
